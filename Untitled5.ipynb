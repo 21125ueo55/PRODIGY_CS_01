{
 "cells": [
  {
   "cell_type": "code",
   "execution_count": null,
   "id": "c42dc606",
   "metadata": {},
   "outputs": [
    {
     "name": "stdout",
     "output_type": "stream",
     "text": [
      "1. ENCRYPTION\n",
      "2. DECRYPTION\n",
      "Enter any one of the 2 modes: 2\n",
      "Enter the input text: adda\n",
      "Enter the shift value: 1\n",
      "After decryption: zccz\n",
      "Do you want to continue y/n:y\n"
     ]
    }
   ],
   "source": [
    "#IMPLEMENTING THE CAESAR CIPHER ALGORITHM\n",
    "def encrypt(text, shift_value):\n",
    "    output = \"\"\n",
    "    for ch in text:\n",
    "        if ch == \" \":\n",
    "            output += \" \"\n",
    "        elif ch.isupper():\n",
    "            output += chr((ord(ch) + shift_value - 65) % 26 + 65)\n",
    "        else:\n",
    "            output += chr((ord(ch) + shift_value - 97) % 26 + 97)\n",
    "    return output\n",
    "\n",
    "def decrypt(text, shift_value):\n",
    "    output = \"\"\n",
    "    for ch in text:\n",
    "        if ch == \" \":\n",
    "            output += \" \"\n",
    "        elif ch.isupper():\n",
    "            output += chr((ord(ch) - shift_value - 65) % 26 + 65)\n",
    "        else:\n",
    "            output += chr((ord(ch) - shift_value - 97) % 26 + 97)\n",
    "    return output\n",
    "\n",
    "if __name__==\"__main__\": \n",
    "    print(\"1. ENCRYPTION\")\n",
    "    print(\"2. DECRYPTION\")\n",
    "    result = \"\"\n",
    "    ch='y'\n",
    "    while(ch.lower()=='y'):\n",
    "        mode = int(input(\"Enter any one of the 2 modes: \"))\n",
    "        if mode == 1:\n",
    "            text = input(\"Enter the input text: \")\n",
    "            shift_value = int(input(\"Enter the shift value: \"))\n",
    "            result = encrypt(text, shift_value)\n",
    "            print(\"After Encryption:\", result)\n",
    "        elif mode == 2:\n",
    "            text = input(\"Enter the input text: \")\n",
    "            shift_value = int(input(\"Enter the shift value: \"))\n",
    "            result = decrypt(text, shift_value)\n",
    "            print(\"After decryption:\", result)\n",
    "        else:\n",
    "            print(\"Invalid option\")\n",
    "        ch=input(\"Do you want to continue y/n:\")\n"
   ]
  },
  {
   "cell_type": "code",
   "execution_count": null,
   "id": "588eddc9",
   "metadata": {},
   "outputs": [],
   "source": []
  },
  {
   "cell_type": "code",
   "execution_count": null,
   "id": "19285258",
   "metadata": {},
   "outputs": [],
   "source": []
  }
 ],
 "metadata": {
  "kernelspec": {
   "display_name": "Python 3 (ipykernel)",
   "language": "python",
   "name": "python3"
  },
  "language_info": {
   "codemirror_mode": {
    "name": "ipython",
    "version": 3
   },
   "file_extension": ".py",
   "mimetype": "text/x-python",
   "name": "python",
   "nbconvert_exporter": "python",
   "pygments_lexer": "ipython3",
   "version": "3.10.9"
  }
 },
 "nbformat": 4,
 "nbformat_minor": 5
}
